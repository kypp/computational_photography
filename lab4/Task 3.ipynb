{
 "cells": [
  {
   "cell_type": "code",
   "execution_count": null,
   "metadata": {
    "collapsed": true
   },
   "outputs": [],
   "source": []
  },
  {
   "cell_type": "code",
   "execution_count": 8,
   "metadata": {
    "collapsed": false
   },
   "outputs": [
    {
     "name": "stdout",
     "output_type": "stream",
     "text": [
      "Populating the interactive namespace from numpy and matplotlib\n"
     ]
    }
   ],
   "source": [
    "%pylab inline\n",
    "\n",
    "import imageio\n",
    "import matplotlib.pyplot as plt\n",
    "from numpy import linalg\n",
    "\n",
    "def homography_from_points(source_pts, target_pts):\n",
    "    correspondences_count = len(source_pts)\n",
    "    \n",
    "    # we have two equations for each point correspondance\n",
    "    A = zeros((2*correspondences_count, 9))\n",
    "    for i in range(correspondences_count):\n",
    "        A[i*2] = [\n",
    "            -source_pts[i][0], -source_pts[i][1], -1, \n",
    "            0, 0, 0, \n",
    "            target_pts[i][0]*source_pts[i][0], target_pts[i][0]*source_pts[i][1], target_pts[i][0]\n",
    "        ]\n",
    "        A[i*2+1] = [\n",
    "            0, 0, 0,\n",
    "            -source_pts[i][0], -source_pts[i][1], -1, \n",
    "            target_pts[i][1]*source_pts[i][0], target_pts[i][1]*source_pts[i][1], target_pts[i][1]            \n",
    "        ]\n",
    "    \n",
    "    U,S,V = linalg.svd(A)\n",
    "    H = V[8].reshape((3,3)) \n",
    "        \n",
    "    return H / H[2,2]"
   ]
  },
  {
   "cell_type": "code",
   "execution_count": 9,
   "metadata": {
    "collapsed": false
   },
   "outputs": [
    {
     "name": "stdout",
     "output_type": "stream",
     "text": [
      "[[  1.01341537e+00   8.52055632e-03   9.50000000e+01]\n",
      " [  1.22508924e-01   1.10564205e+00   1.70000000e+02]\n",
      " [  6.81617214e-04   2.51830548e-04   1.00000000e+00]]\n"
     ]
    }
   ],
   "source": [
    "w = 168\n",
    "h = 66\n",
    "\n",
    "pointListPoster=[array([0, 0, 1]), array([w, 0, 1]), array([w, h, 1]), array([0, h, 1])]\n",
    "pointListTrain=[array([95, 170, 1]), array([238,171, 1]), array([235, 233, 1]), array([94, 239,\n",
    "1])]\n",
    "\n",
    "print homography_from_points(pointListPoster, pointListTrain)"
   ]
  }
 ],
 "metadata": {
  "kernelspec": {
   "display_name": "Python 2",
   "language": "python",
   "name": "python2"
  },
  "language_info": {
   "codemirror_mode": {
    "name": "ipython",
    "version": 2
   },
   "file_extension": ".py",
   "mimetype": "text/x-python",
   "name": "python",
   "nbconvert_exporter": "python",
   "pygments_lexer": "ipython2",
   "version": "2.7.10"
  }
 },
 "nbformat": 4,
 "nbformat_minor": 0
}
